{
 "cells": [
  {
   "cell_type": "markdown",
   "metadata": {
    "id": "8e6IcCsJCxVz"
   },
   "source": [
    "DISCIPLINA: Gestão do Conhecimento\t PROFESSOR(A): Alex Salgado\n",
    "PERÍODO: 7o. TURNO: noite AVALIAÇÃO:\n",
    "\n",
    "ALUNO(A): Julia Matos\n",
    "\n",
    "GRAU: VISTO DO PROFESSOR:\n"
   ]
  },
  {
   "cell_type": "markdown",
   "metadata": {
    "id": "_3h1pahVCxV2"
   },
   "source": [
    "# Questão 1 - valor (0,0)\n"
   ]
  },
  {
   "cell_type": "markdown",
   "metadata": {
    "id": "A-cj5d2rCxV3"
   },
   "source": [
    "*** Crie um repositório no Github e adicione este arquivo no mesmo\n",
    "\n",
    "\n",
    "1.1 - Você deve escolher uma base de dados do Kaggle.\n",
    "\n",
    "A natureza desse dataset deve se encaixar em um problema que podemos resolver utilizando modelos de previsão de machine learning supervisionado de classificação. \n",
    "\n",
    "A partir desta base de dados do Kaggle, você vai treinar o modelo, fazer previsões e calcular a acurácia do mesmo, usando modelos e algoritmos que desejar.\n",
    "\n",
    "Obs1: Usar o Kaggle como fonte para o seu dataset obrigatoriamente.\n",
    "Obs2: Implementações idênticas ou bem parecidas pode levar a anulação da NOTA ou seja, ZERO!! Faça o melhor com sua equipe apenas.\n"
   ]
  },
  {
   "cell_type": "markdown",
   "metadata": {
    "id": "3P5uSWxsDb5r"
   },
   "source": [
    "1.1 - Coloque aqui o link para o seu dataset escolhido no Kaggle.\n",
    "\n"
   ]
  },
  {
   "cell_type": "markdown",
   "metadata": {
    "id": "E5KjBhtQ0tT5"
   },
   "source": [
    "https://www.kaggle.com/aryakrishnanar/average-rainfall-and-temperature-in-uk20102019?select=avg_rainfalltemp+in+UK+-+Sheet1.csv"
   ]
  },
  {
   "cell_type": "markdown",
   "metadata": {
    "id": "9ZAK23bp0uiv"
   },
   "source": [
    "1.1.1 - Descreva sobre o que é base de dados."
   ]
  },
  {
   "cell_type": "markdown",
   "metadata": {
    "id": "GJXzGjne0xc3"
   },
   "source": [
    "Este conjunto de dados contém dados de incidentes de TI relatados ao CERT.br (Centro de Estudos, Resposta e Tratamento de Incidentes de Segurança no Brasil)"
   ]
  },
  {
   "cell_type": "markdown",
   "metadata": {
    "id": "PikuHGzs0xrS"
   },
   "source": [
    "1.1.2 - Se você fez em grupo, quais os nomes dos componentes do seu grupo?"
   ]
  },
  {
   "cell_type": "markdown",
   "metadata": {
    "id": "CWD182zJCxV4"
   },
   "source": [
    "Arthur Belmont & Julia Matos"
   ]
  },
  {
   "cell_type": "markdown",
   "metadata": {
    "id": "a-D7KRIzCxV8"
   },
   "source": [
    "1.2 - Após tratada, criar uma pasta no seu GoogleDrive e disponibilizar o link do arquivo de sua base (csv, xlsx, etc) para ser importado no seu código."
   ]
  },
  {
   "cell_type": "code",
   "execution_count": 61,
   "metadata": {
    "id": "lT8fVn5TCxV8"
   },
   "outputs": [
    {
     "ename": "SyntaxError",
     "evalue": "invalid syntax (<ipython-input-61-61efe78d5b3a>, line 1)",
     "output_type": "error",
     "traceback": [
      "\u001b[1;36m  File \u001b[1;32m\"<ipython-input-61-61efe78d5b3a>\"\u001b[1;36m, line \u001b[1;32m1\u001b[0m\n\u001b[1;33m    https://github.com/ArthurBelmont/Av2-GC/blob/main/cert_2010-2019.csv\u001b[0m\n\u001b[1;37m          ^\u001b[0m\n\u001b[1;31mSyntaxError\u001b[0m\u001b[1;31m:\u001b[0m invalid syntax\n"
     ]
    }
   ],
   "source": [
    "https://github.com/ArthurBelmont/Av2-GC/blob/main/cert_2010-2019.csv"
   ]
  },
  {
   "cell_type": "markdown",
   "metadata": {
    "id": "lvPXgDBDCxV_"
   },
   "source": [
    "## Criar um código usando o Jupyter Notebook e responder (através de código) às seguintes questões:\n"
   ]
  },
  {
   "cell_type": "markdown",
   "metadata": {
    "id": "LMkAEsOKCxWA"
   },
   "source": [
    "# Questão 2 - valor (0,5)"
   ]
  },
  {
   "cell_type": "markdown",
   "metadata": {
    "id": "yOSNQel0CxWA"
   },
   "source": [
    "2.1 - Importar os modulos python para machine learn e carregar o arquivo \n",
    "\n",
    "** Sugestão se for do tipo xlsx, usar o read_excel do pandas\n",
    "import pandas as pd\n",
    "dt = pd.read_excel(\"meuarquivo.xlsx\")\n"
   ]
  },
  {
   "cell_type": "code",
   "execution_count": 62,
   "metadata": {
    "id": "zA6l-qg9CxWB"
   },
   "outputs": [
    {
     "data": {
      "text/html": [
       "<div>\n",
       "<style scoped>\n",
       "    .dataframe tbody tr th:only-of-type {\n",
       "        vertical-align: middle;\n",
       "    }\n",
       "\n",
       "    .dataframe tbody tr th {\n",
       "        vertical-align: top;\n",
       "    }\n",
       "\n",
       "    .dataframe thead th {\n",
       "        text-align: right;\n",
       "    }\n",
       "</style>\n",
       "<table border=\"1\" class=\"dataframe\">\n",
       "  <thead>\n",
       "    <tr style=\"text-align: right;\">\n",
       "      <th></th>\n",
       "      <th>Ano</th>\n",
       "      <th>Mes</th>\n",
       "      <th>Total</th>\n",
       "      <th>Worm</th>\n",
       "      <th>DOS</th>\n",
       "      <th>Invasao</th>\n",
       "      <th>Web</th>\n",
       "      <th>Scan</th>\n",
       "      <th>Fraude</th>\n",
       "      <th>Outros</th>\n",
       "    </tr>\n",
       "  </thead>\n",
       "  <tbody>\n",
       "    <tr>\n",
       "      <th>0</th>\n",
       "      <td>2019</td>\n",
       "      <td>1</td>\n",
       "      <td>62481</td>\n",
       "      <td>7796</td>\n",
       "      <td>4191</td>\n",
       "      <td>19</td>\n",
       "      <td>2594</td>\n",
       "      <td>46038</td>\n",
       "      <td>1744</td>\n",
       "      <td>99</td>\n",
       "    </tr>\n",
       "    <tr>\n",
       "      <th>1</th>\n",
       "      <td>2019</td>\n",
       "      <td>2</td>\n",
       "      <td>70069</td>\n",
       "      <td>7707</td>\n",
       "      <td>2192</td>\n",
       "      <td>27</td>\n",
       "      <td>4179</td>\n",
       "      <td>54401</td>\n",
       "      <td>1459</td>\n",
       "      <td>104</td>\n",
       "    </tr>\n",
       "    <tr>\n",
       "      <th>2</th>\n",
       "      <td>2019</td>\n",
       "      <td>3</td>\n",
       "      <td>85409</td>\n",
       "      <td>4476</td>\n",
       "      <td>29309</td>\n",
       "      <td>19</td>\n",
       "      <td>2006</td>\n",
       "      <td>47966</td>\n",
       "      <td>1521</td>\n",
       "      <td>112</td>\n",
       "    </tr>\n",
       "    <tr>\n",
       "      <th>3</th>\n",
       "      <td>2019</td>\n",
       "      <td>4</td>\n",
       "      <td>59900</td>\n",
       "      <td>7624</td>\n",
       "      <td>2718</td>\n",
       "      <td>37</td>\n",
       "      <td>1555</td>\n",
       "      <td>45774</td>\n",
       "      <td>2119</td>\n",
       "      <td>73</td>\n",
       "    </tr>\n",
       "    <tr>\n",
       "      <th>4</th>\n",
       "      <td>2019</td>\n",
       "      <td>5</td>\n",
       "      <td>52129</td>\n",
       "      <td>6555</td>\n",
       "      <td>15773</td>\n",
       "      <td>74</td>\n",
       "      <td>1425</td>\n",
       "      <td>25521</td>\n",
       "      <td>2633</td>\n",
       "      <td>148</td>\n",
       "    </tr>\n",
       "    <tr>\n",
       "      <th>...</th>\n",
       "      <td>...</td>\n",
       "      <td>...</td>\n",
       "      <td>...</td>\n",
       "      <td>...</td>\n",
       "      <td>...</td>\n",
       "      <td>...</td>\n",
       "      <td>...</td>\n",
       "      <td>...</td>\n",
       "      <td>...</td>\n",
       "      <td>...</td>\n",
       "    </tr>\n",
       "    <tr>\n",
       "      <th>115</th>\n",
       "      <td>2010</td>\n",
       "      <td>8</td>\n",
       "      <td>14171</td>\n",
       "      <td>1213</td>\n",
       "      <td>4</td>\n",
       "      <td>5</td>\n",
       "      <td>928</td>\n",
       "      <td>9186</td>\n",
       "      <td>2596</td>\n",
       "      <td>239</td>\n",
       "    </tr>\n",
       "    <tr>\n",
       "      <th>116</th>\n",
       "      <td>2010</td>\n",
       "      <td>9</td>\n",
       "      <td>13177</td>\n",
       "      <td>904</td>\n",
       "      <td>0</td>\n",
       "      <td>11</td>\n",
       "      <td>734</td>\n",
       "      <td>8882</td>\n",
       "      <td>2413</td>\n",
       "      <td>233</td>\n",
       "    </tr>\n",
       "    <tr>\n",
       "      <th>117</th>\n",
       "      <td>2010</td>\n",
       "      <td>10</td>\n",
       "      <td>13078</td>\n",
       "      <td>1555</td>\n",
       "      <td>1</td>\n",
       "      <td>18</td>\n",
       "      <td>835</td>\n",
       "      <td>8521</td>\n",
       "      <td>1968</td>\n",
       "      <td>180</td>\n",
       "    </tr>\n",
       "    <tr>\n",
       "      <th>118</th>\n",
       "      <td>2010</td>\n",
       "      <td>11</td>\n",
       "      <td>14551</td>\n",
       "      <td>991</td>\n",
       "      <td>157</td>\n",
       "      <td>9</td>\n",
       "      <td>825</td>\n",
       "      <td>10072</td>\n",
       "      <td>2257</td>\n",
       "      <td>240</td>\n",
       "    </tr>\n",
       "    <tr>\n",
       "      <th>119</th>\n",
       "      <td>2010</td>\n",
       "      <td>12</td>\n",
       "      <td>14059</td>\n",
       "      <td>1181</td>\n",
       "      <td>21</td>\n",
       "      <td>5</td>\n",
       "      <td>871</td>\n",
       "      <td>8832</td>\n",
       "      <td>2887</td>\n",
       "      <td>262</td>\n",
       "    </tr>\n",
       "  </tbody>\n",
       "</table>\n",
       "<p>120 rows × 10 columns</p>\n",
       "</div>"
      ],
      "text/plain": [
       "      Ano  Mes  Total  Worm    DOS  Invasao   Web   Scan  Fraude  Outros\n",
       "0    2019    1  62481  7796   4191       19  2594  46038    1744      99\n",
       "1    2019    2  70069  7707   2192       27  4179  54401    1459     104\n",
       "2    2019    3  85409  4476  29309       19  2006  47966    1521     112\n",
       "3    2019    4  59900  7624   2718       37  1555  45774    2119      73\n",
       "4    2019    5  52129  6555  15773       74  1425  25521    2633     148\n",
       "..    ...  ...    ...   ...    ...      ...   ...    ...     ...     ...\n",
       "115  2010    8  14171  1213      4        5   928   9186    2596     239\n",
       "116  2010    9  13177   904      0       11   734   8882    2413     233\n",
       "117  2010   10  13078  1555      1       18   835   8521    1968     180\n",
       "118  2010   11  14551   991    157        9   825  10072    2257     240\n",
       "119  2010   12  14059  1181     21        5   871   8832    2887     262\n",
       "\n",
       "[120 rows x 10 columns]"
      ]
     },
     "metadata": {},
     "output_type": "display_data"
    }
   ],
   "source": [
    "import pandas as pd\n",
    "\n",
    "\n",
    "si = pd.read_csv('https://raw.githubusercontent.com/ArthurBelmont/Av2-GC/main/cert_2010-2019.csv',sep = \";\")\n",
    "display(si)"
   ]
  },
  {
   "cell_type": "markdown",
   "metadata": {
    "id": "_NIYxnZnCxWD"
   },
   "source": [
    "2.2 - Exibir os primeiros registros desta tabela.\n"
   ]
  },
  {
   "cell_type": "code",
   "execution_count": 63,
   "metadata": {
    "id": "owd5CVN9CxWE"
   },
   "outputs": [
    {
     "data": {
      "text/html": [
       "<div>\n",
       "<style scoped>\n",
       "    .dataframe tbody tr th:only-of-type {\n",
       "        vertical-align: middle;\n",
       "    }\n",
       "\n",
       "    .dataframe tbody tr th {\n",
       "        vertical-align: top;\n",
       "    }\n",
       "\n",
       "    .dataframe thead th {\n",
       "        text-align: right;\n",
       "    }\n",
       "</style>\n",
       "<table border=\"1\" class=\"dataframe\">\n",
       "  <thead>\n",
       "    <tr style=\"text-align: right;\">\n",
       "      <th></th>\n",
       "      <th>Ano</th>\n",
       "      <th>Mes</th>\n",
       "      <th>Total</th>\n",
       "      <th>Worm</th>\n",
       "      <th>DOS</th>\n",
       "      <th>Invasao</th>\n",
       "      <th>Web</th>\n",
       "      <th>Scan</th>\n",
       "      <th>Fraude</th>\n",
       "      <th>Outros</th>\n",
       "    </tr>\n",
       "  </thead>\n",
       "  <tbody>\n",
       "    <tr>\n",
       "      <th>0</th>\n",
       "      <td>2019</td>\n",
       "      <td>1</td>\n",
       "      <td>62481</td>\n",
       "      <td>7796</td>\n",
       "      <td>4191</td>\n",
       "      <td>19</td>\n",
       "      <td>2594</td>\n",
       "      <td>46038</td>\n",
       "      <td>1744</td>\n",
       "      <td>99</td>\n",
       "    </tr>\n",
       "    <tr>\n",
       "      <th>1</th>\n",
       "      <td>2019</td>\n",
       "      <td>2</td>\n",
       "      <td>70069</td>\n",
       "      <td>7707</td>\n",
       "      <td>2192</td>\n",
       "      <td>27</td>\n",
       "      <td>4179</td>\n",
       "      <td>54401</td>\n",
       "      <td>1459</td>\n",
       "      <td>104</td>\n",
       "    </tr>\n",
       "    <tr>\n",
       "      <th>2</th>\n",
       "      <td>2019</td>\n",
       "      <td>3</td>\n",
       "      <td>85409</td>\n",
       "      <td>4476</td>\n",
       "      <td>29309</td>\n",
       "      <td>19</td>\n",
       "      <td>2006</td>\n",
       "      <td>47966</td>\n",
       "      <td>1521</td>\n",
       "      <td>112</td>\n",
       "    </tr>\n",
       "    <tr>\n",
       "      <th>3</th>\n",
       "      <td>2019</td>\n",
       "      <td>4</td>\n",
       "      <td>59900</td>\n",
       "      <td>7624</td>\n",
       "      <td>2718</td>\n",
       "      <td>37</td>\n",
       "      <td>1555</td>\n",
       "      <td>45774</td>\n",
       "      <td>2119</td>\n",
       "      <td>73</td>\n",
       "    </tr>\n",
       "    <tr>\n",
       "      <th>4</th>\n",
       "      <td>2019</td>\n",
       "      <td>5</td>\n",
       "      <td>52129</td>\n",
       "      <td>6555</td>\n",
       "      <td>15773</td>\n",
       "      <td>74</td>\n",
       "      <td>1425</td>\n",
       "      <td>25521</td>\n",
       "      <td>2633</td>\n",
       "      <td>148</td>\n",
       "    </tr>\n",
       "  </tbody>\n",
       "</table>\n",
       "</div>"
      ],
      "text/plain": [
       "    Ano  Mes  Total  Worm    DOS  Invasao   Web   Scan  Fraude  Outros\n",
       "0  2019    1  62481  7796   4191       19  2594  46038    1744      99\n",
       "1  2019    2  70069  7707   2192       27  4179  54401    1459     104\n",
       "2  2019    3  85409  4476  29309       19  2006  47966    1521     112\n",
       "3  2019    4  59900  7624   2718       37  1555  45774    2119      73\n",
       "4  2019    5  52129  6555  15773       74  1425  25521    2633     148"
      ]
     },
     "execution_count": 63,
     "metadata": {},
     "output_type": "execute_result"
    }
   ],
   "source": [
    "si.head()"
   ]
  },
  {
   "cell_type": "markdown",
   "metadata": {
    "id": "ROM2Hy1CCxWG"
   },
   "source": [
    "2.3 - De que se trata esse banco de dados? e que tipo de previsão pode ser feito com ele?\n"
   ]
  },
  {
   "cell_type": "markdown",
   "metadata": {
    "id": "Xh68K5SjCxWH"
   },
   "source": [
    "Este dataset se trata de incidentes de TI relatados.\n",
    "\n",
    "Pode estudar quantos incidente ocorreram durante ano/mês e qual tipo de incidente foi."
   ]
  },
  {
   "cell_type": "markdown",
   "metadata": {
    "id": "1lCf85KKCxWJ"
   },
   "source": [
    "# Questão 3 - valor (1,5)\n"
   ]
  },
  {
   "cell_type": "markdown",
   "metadata": {
    "id": "isyZsq2NCxWK"
   },
   "source": [
    "Utilizando as terminologias de Machine Learning(features e observações):\n",
    "\n"
   ]
  },
  {
   "cell_type": "markdown",
   "metadata": {
    "id": "pbuaWyeECxWL"
   },
   "source": [
    "3.1 - Quantas \"features\" têm nessa base de dados?"
   ]
  },
  {
   "cell_type": "markdown",
   "metadata": {
    "id": "MY5Xwd0gCxWL"
   },
   "source": [
    "3 features "
   ]
  },
  {
   "cell_type": "markdown",
   "metadata": {
    "id": "RtwxkASmCxWN"
   },
   "source": [
    "3.2 - Quantas observações têm nessa base de dados?\n"
   ]
  },
  {
   "cell_type": "code",
   "execution_count": 64,
   "metadata": {
    "id": "yN1QNvh-CxWO"
   },
   "outputs": [
    {
     "data": {
      "text/plain": [
       "120"
      ]
     },
     "execution_count": 64,
     "metadata": {},
     "output_type": "execute_result"
    }
   ],
   "source": [
    "120"
   ]
  },
  {
   "cell_type": "markdown",
   "metadata": {
    "id": "tcAYZJP8zlX3"
   },
   "source": [
    "3.3 - Separe o que é entrada (features) do seu dataset na variável X, e exiba."
   ]
  },
  {
   "cell_type": "code",
   "execution_count": 152,
   "metadata": {
    "id": "sntqiY6UzuaT"
   },
   "outputs": [
    {
     "data": {
      "text/html": [
       "<div>\n",
       "<style scoped>\n",
       "    .dataframe tbody tr th:only-of-type {\n",
       "        vertical-align: middle;\n",
       "    }\n",
       "\n",
       "    .dataframe tbody tr th {\n",
       "        vertical-align: top;\n",
       "    }\n",
       "\n",
       "    .dataframe thead th {\n",
       "        text-align: right;\n",
       "    }\n",
       "</style>\n",
       "<table border=\"1\" class=\"dataframe\">\n",
       "  <thead>\n",
       "    <tr style=\"text-align: right;\">\n",
       "      <th></th>\n",
       "      <th>Ano</th>\n",
       "      <th>Mes</th>\n",
       "    </tr>\n",
       "  </thead>\n",
       "  <tbody>\n",
       "    <tr>\n",
       "      <th>0</th>\n",
       "      <td>2019</td>\n",
       "      <td>1</td>\n",
       "    </tr>\n",
       "    <tr>\n",
       "      <th>1</th>\n",
       "      <td>2019</td>\n",
       "      <td>2</td>\n",
       "    </tr>\n",
       "    <tr>\n",
       "      <th>2</th>\n",
       "      <td>2019</td>\n",
       "      <td>3</td>\n",
       "    </tr>\n",
       "    <tr>\n",
       "      <th>3</th>\n",
       "      <td>2019</td>\n",
       "      <td>4</td>\n",
       "    </tr>\n",
       "    <tr>\n",
       "      <th>4</th>\n",
       "      <td>2019</td>\n",
       "      <td>5</td>\n",
       "    </tr>\n",
       "    <tr>\n",
       "      <th>...</th>\n",
       "      <td>...</td>\n",
       "      <td>...</td>\n",
       "    </tr>\n",
       "    <tr>\n",
       "      <th>115</th>\n",
       "      <td>2010</td>\n",
       "      <td>8</td>\n",
       "    </tr>\n",
       "    <tr>\n",
       "      <th>116</th>\n",
       "      <td>2010</td>\n",
       "      <td>9</td>\n",
       "    </tr>\n",
       "    <tr>\n",
       "      <th>117</th>\n",
       "      <td>2010</td>\n",
       "      <td>10</td>\n",
       "    </tr>\n",
       "    <tr>\n",
       "      <th>118</th>\n",
       "      <td>2010</td>\n",
       "      <td>11</td>\n",
       "    </tr>\n",
       "    <tr>\n",
       "      <th>119</th>\n",
       "      <td>2010</td>\n",
       "      <td>12</td>\n",
       "    </tr>\n",
       "  </tbody>\n",
       "</table>\n",
       "<p>120 rows × 2 columns</p>\n",
       "</div>"
      ],
      "text/plain": [
       "      Ano  Mes\n",
       "0    2019    1\n",
       "1    2019    2\n",
       "2    2019    3\n",
       "3    2019    4\n",
       "4    2019    5\n",
       "..    ...  ...\n",
       "115  2010    8\n",
       "116  2010    9\n",
       "117  2010   10\n",
       "118  2010   11\n",
       "119  2010   12\n",
       "\n",
       "[120 rows x 2 columns]"
      ]
     },
     "execution_count": 152,
     "metadata": {},
     "output_type": "execute_result"
    }
   ],
   "source": [
    "x = si[si.columns[0:2]]\n",
    "x"
   ]
  },
  {
   "cell_type": "markdown",
   "metadata": {
    "id": "FkA2G20zzvHX"
   },
   "source": [
    "3.4 - Separe o que é saída (target/resposta) do seu dataset na variável y, e exiba."
   ]
  },
  {
   "cell_type": "code",
   "execution_count": 151,
   "metadata": {
    "id": "scWmkISnzj3i"
   },
   "outputs": [
    {
     "data": {
      "text/html": [
       "<div>\n",
       "<style scoped>\n",
       "    .dataframe tbody tr th:only-of-type {\n",
       "        vertical-align: middle;\n",
       "    }\n",
       "\n",
       "    .dataframe tbody tr th {\n",
       "        vertical-align: top;\n",
       "    }\n",
       "\n",
       "    .dataframe thead th {\n",
       "        text-align: right;\n",
       "    }\n",
       "</style>\n",
       "<table border=\"1\" class=\"dataframe\">\n",
       "  <thead>\n",
       "    <tr style=\"text-align: right;\">\n",
       "      <th></th>\n",
       "      <th>Total</th>\n",
       "      <th>Worm</th>\n",
       "      <th>DOS</th>\n",
       "      <th>Invasao</th>\n",
       "      <th>Web</th>\n",
       "      <th>Scan</th>\n",
       "      <th>Fraude</th>\n",
       "      <th>Outros</th>\n",
       "    </tr>\n",
       "  </thead>\n",
       "  <tbody>\n",
       "    <tr>\n",
       "      <th>0</th>\n",
       "      <td>62481</td>\n",
       "      <td>7796</td>\n",
       "      <td>4191</td>\n",
       "      <td>19</td>\n",
       "      <td>2594</td>\n",
       "      <td>46038</td>\n",
       "      <td>1744</td>\n",
       "      <td>99</td>\n",
       "    </tr>\n",
       "    <tr>\n",
       "      <th>1</th>\n",
       "      <td>70069</td>\n",
       "      <td>7707</td>\n",
       "      <td>2192</td>\n",
       "      <td>27</td>\n",
       "      <td>4179</td>\n",
       "      <td>54401</td>\n",
       "      <td>1459</td>\n",
       "      <td>104</td>\n",
       "    </tr>\n",
       "    <tr>\n",
       "      <th>2</th>\n",
       "      <td>85409</td>\n",
       "      <td>4476</td>\n",
       "      <td>29309</td>\n",
       "      <td>19</td>\n",
       "      <td>2006</td>\n",
       "      <td>47966</td>\n",
       "      <td>1521</td>\n",
       "      <td>112</td>\n",
       "    </tr>\n",
       "    <tr>\n",
       "      <th>3</th>\n",
       "      <td>59900</td>\n",
       "      <td>7624</td>\n",
       "      <td>2718</td>\n",
       "      <td>37</td>\n",
       "      <td>1555</td>\n",
       "      <td>45774</td>\n",
       "      <td>2119</td>\n",
       "      <td>73</td>\n",
       "    </tr>\n",
       "    <tr>\n",
       "      <th>4</th>\n",
       "      <td>52129</td>\n",
       "      <td>6555</td>\n",
       "      <td>15773</td>\n",
       "      <td>74</td>\n",
       "      <td>1425</td>\n",
       "      <td>25521</td>\n",
       "      <td>2633</td>\n",
       "      <td>148</td>\n",
       "    </tr>\n",
       "    <tr>\n",
       "      <th>...</th>\n",
       "      <td>...</td>\n",
       "      <td>...</td>\n",
       "      <td>...</td>\n",
       "      <td>...</td>\n",
       "      <td>...</td>\n",
       "      <td>...</td>\n",
       "      <td>...</td>\n",
       "      <td>...</td>\n",
       "    </tr>\n",
       "    <tr>\n",
       "      <th>115</th>\n",
       "      <td>14171</td>\n",
       "      <td>1213</td>\n",
       "      <td>4</td>\n",
       "      <td>5</td>\n",
       "      <td>928</td>\n",
       "      <td>9186</td>\n",
       "      <td>2596</td>\n",
       "      <td>239</td>\n",
       "    </tr>\n",
       "    <tr>\n",
       "      <th>116</th>\n",
       "      <td>13177</td>\n",
       "      <td>904</td>\n",
       "      <td>0</td>\n",
       "      <td>11</td>\n",
       "      <td>734</td>\n",
       "      <td>8882</td>\n",
       "      <td>2413</td>\n",
       "      <td>233</td>\n",
       "    </tr>\n",
       "    <tr>\n",
       "      <th>117</th>\n",
       "      <td>13078</td>\n",
       "      <td>1555</td>\n",
       "      <td>1</td>\n",
       "      <td>18</td>\n",
       "      <td>835</td>\n",
       "      <td>8521</td>\n",
       "      <td>1968</td>\n",
       "      <td>180</td>\n",
       "    </tr>\n",
       "    <tr>\n",
       "      <th>118</th>\n",
       "      <td>14551</td>\n",
       "      <td>991</td>\n",
       "      <td>157</td>\n",
       "      <td>9</td>\n",
       "      <td>825</td>\n",
       "      <td>10072</td>\n",
       "      <td>2257</td>\n",
       "      <td>240</td>\n",
       "    </tr>\n",
       "    <tr>\n",
       "      <th>119</th>\n",
       "      <td>14059</td>\n",
       "      <td>1181</td>\n",
       "      <td>21</td>\n",
       "      <td>5</td>\n",
       "      <td>871</td>\n",
       "      <td>8832</td>\n",
       "      <td>2887</td>\n",
       "      <td>262</td>\n",
       "    </tr>\n",
       "  </tbody>\n",
       "</table>\n",
       "<p>120 rows × 8 columns</p>\n",
       "</div>"
      ],
      "text/plain": [
       "     Total  Worm    DOS  Invasao   Web   Scan  Fraude  Outros\n",
       "0    62481  7796   4191       19  2594  46038    1744      99\n",
       "1    70069  7707   2192       27  4179  54401    1459     104\n",
       "2    85409  4476  29309       19  2006  47966    1521     112\n",
       "3    59900  7624   2718       37  1555  45774    2119      73\n",
       "4    52129  6555  15773       74  1425  25521    2633     148\n",
       "..     ...   ...    ...      ...   ...    ...     ...     ...\n",
       "115  14171  1213      4        5   928   9186    2596     239\n",
       "116  13177   904      0       11   734   8882    2413     233\n",
       "117  13078  1555      1       18   835   8521    1968     180\n",
       "118  14551   991    157        9   825  10072    2257     240\n",
       "119  14059  1181     21        5   871   8832    2887     262\n",
       "\n",
       "[120 rows x 8 columns]"
      ]
     },
     "execution_count": 151,
     "metadata": {},
     "output_type": "execute_result"
    }
   ],
   "source": [
    "y = si[si.columns[2:]]\n",
    "y"
   ]
  },
  {
   "cell_type": "markdown",
   "metadata": {
    "id": "AudYWfr1CxWQ"
   },
   "source": [
    "# Questão 4 - valor (1,5)\n"
   ]
  },
  {
   "cell_type": "markdown",
   "metadata": {
    "id": "pJxRMc1HCxWR"
   },
   "source": [
    "4.1 - Utilizando a sua base, faça um treinamento e uma previsão, usando o algoritmo de clsssificação de sua escolha.\n"
   ]
  },
  {
   "cell_type": "code",
   "execution_count": 153,
   "metadata": {
    "id": "Tu7ZKtSkCxWS"
   },
   "outputs": [],
   "source": [
    "from sklearn.neighbors import KNeighborsClassifier"
   ]
  },
  {
   "cell_type": "code",
   "execution_count": 154,
   "metadata": {},
   "outputs": [],
   "source": [
    "knn = KNeighborsClassifier(n_neighbors=1)"
   ]
  },
  {
   "cell_type": "code",
   "execution_count": 155,
   "metadata": {},
   "outputs": [
    {
     "data": {
      "text/plain": [
       "KNeighborsClassifier(n_neighbors=1)"
      ]
     },
     "execution_count": 155,
     "metadata": {},
     "output_type": "execute_result"
    }
   ],
   "source": [
    "knn.fit(y,x)\n"
   ]
  },
  {
   "cell_type": "markdown",
   "metadata": {
    "id": "xbpLvAhTCxWU"
   },
   "source": [
    "# Questão 5 - valor (1,5)\n",
    "\n",
    "\n",
    "\n"
   ]
  },
  {
   "cell_type": "code",
   "execution_count": 156,
   "metadata": {
    "id": "0r7i8IsFxoQp"
   },
   "outputs": [
    {
     "data": {
      "text/plain": [
       "array([[2019,    1],\n",
       "       [2010,    8]], dtype=int64)"
      ]
     },
     "execution_count": 156,
     "metadata": {},
     "output_type": "execute_result"
    }
   ],
   "source": [
    "rx = [[62481,7796,4191,19,2594,46038,1744,99],[14171,1213,4,5,928,9186,2596,239]]\n",
    "knn.predict(rx)"
   ]
  },
  {
   "cell_type": "markdown",
   "metadata": {
    "id": "cp4fWsL7CxWU"
   },
   "source": [
    "Usando o método de avaliação de acurácia (Train test split), Escolha outros 2 algoritmos de classificação e calcule a acurácia dos mesmos."
   ]
  },
  {
   "cell_type": "markdown",
   "metadata": {},
   "source": [
    "LogisticRegression\n",
    "\n",
    "\n"
   ]
  },
  {
   "cell_type": "markdown",
   "metadata": {
    "id": "mNmy44xfCxWY"
   },
   "source": [
    "5.2 - Acurácia usando o algoritmo 1 ?\n"
   ]
  },
  {
   "cell_type": "code",
   "execution_count": 187,
   "metadata": {
    "id": "caGkCtYGCxWY"
   },
   "outputs": [
    {
     "data": {
      "text/plain": [
       "1.0"
      ]
     },
     "execution_count": 187,
     "metadata": {},
     "output_type": "execute_result"
    }
   ],
   "source": [
    "import warnings\n",
    "warnings.filterwarnings(\"ignore\")\n",
    "\n",
    "from sklearn.linear_model import LogisticRegression\n",
    "\n",
    "logreg = LogisticRegression(solver='liblinear')\n",
    "\n",
    "y = si[si.columns[1:2]]\n",
    "\n",
    "logreg.fit(x, y)\n",
    "\n",
    "y_pred = logreg.predict(x)\n",
    "\n",
    "len(y_pred)\n",
    "\n",
    "from sklearn import metrics\n",
    "Accuracy = metrics.accuracy_score(y, y_pred)\n",
    "\n",
    "Accuracy"
   ]
  },
  {
   "cell_type": "markdown",
   "metadata": {
    "id": "3xUZm_JICxWa"
   },
   "source": [
    "5.3 - Acurácia usando o algoritmo 2 ?\n",
    "\n",
    "\n",
    "\n"
   ]
  },
  {
   "cell_type": "code",
   "execution_count": 188,
   "metadata": {
    "id": "VvAgNcVsCxWb"
   },
   "outputs": [],
   "source": [
    "import warnings\n",
    "warnings.filterwarnings(\"ignore\")\n",
    "\n",
    "from sklearn.model_selection import train_test_split\n",
    "x_train, x_test, y_train, y_test = train_test_split(x, y, test_size=0.4, random_state=4)"
   ]
  },
  {
   "cell_type": "code",
   "execution_count": 189,
   "metadata": {},
   "outputs": [
    {
     "name": "stdout",
     "output_type": "stream",
     "text": [
      "0.5625\n"
     ]
    }
   ],
   "source": [
    "\n",
    "#print(x_train.shape)\n",
    "#print(x_test.shape)\n",
    "\n",
    "logreg = LogisticRegression(solver='liblinear')\n",
    "logreg.fit(x_train, y_train)\n",
    "\n",
    "y_pred = logreg.predict(x_test)\n",
    "\n",
    "print(metrics.accuracy_score(y_test, y_pred))"
   ]
  },
  {
   "cell_type": "markdown",
   "metadata": {
    "id": "8FkyIUHbCxWd"
   },
   "source": [
    "5.4 - De acordo com seus resultados anteriores, qual dos 2 algoritmos é mais eficiente?\n"
   ]
  },
  {
   "cell_type": "markdown",
   "metadata": {
    "id": "K0AE8XQ1CxWd"
   },
   "source": [
    "O 1° algoritmo."
   ]
  },
  {
   "cell_type": "markdown",
   "metadata": {
    "id": "QIAfJToiy77F"
   },
   "source": [
    "# Questão 6 - valor (1,5)\n",
    "\n"
   ]
  },
  {
   "cell_type": "markdown",
   "metadata": {
    "id": "Is2wXGy3ySgF"
   },
   "source": [
    "6 - Faça um visualização auto-explicativa da sua base de dados utilizando o matplotlib. Coloque o código e a visualização abaixo.\n"
   ]
  },
  {
   "cell_type": "code",
   "execution_count": 190,
   "metadata": {
    "id": "DdlmwhZlyi_7"
   },
   "outputs": [
    {
     "data": {
      "text/plain": [
       "Text(0, 0.5, 'TESTE PRECISÃO')"
      ]
     },
     "execution_count": 190,
     "metadata": {},
     "output_type": "execute_result"
    },
    {
     "data": {
      "image/png": "[encoded data removed]",
      "text/plain": [
       "<Figure size 432x288 with 1 Axes>"
      ]
     },
     "metadata": {
      "needs_background": "light"
     },
     "output_type": "display_data"
    }
   ],
   "source": [
    "import warnings\n",
    "warnings.filterwarnings(\"ignore\")\n",
    "\n",
    "k_range = list(range(1,28))\n",
    "scores = []\n",
    "for k in k_range:\n",
    "    knn = KNeighborsClassifier(n_neighbors=k)\n",
    "    knn.fit(x_train, y_train)\n",
    "    y_pred = knn.predict(x_test)\n",
    "    scores.append(metrics.accuracy_score(y_test, y_pred))\n",
    "\n",
    "\n",
    "import matplotlib.pyplot as plt\n",
    "\n",
    "plt.plot(k_range, scores)\n",
    "plt.xlabel('K / KNN')\n",
    "plt.ylabel('TESTE PRECISÃO')"
   ]
  },
  {
   "cell_type": "markdown",
   "metadata": {
    "id": "zRDUIRloCxWf"
   },
   "source": [
    "*** Envie o link do seu Github com essa resposta no Classroom\n"
   ]
  }
 ],
 "metadata": {
  "colab": {
   "collapsed_sections": [],
   "name": "2021_1_Prova_AV2_Gestão_do_Conhecimento.ipynb",
   "provenance": []
  },
  "kernelspec": {
   "display_name": "Python 3",
   "language": "python",
   "name": "python3"
  },
  "language_info": {
   "codemirror_mode": {
    "name": "ipython",
    "version": 3
   },
   "file_extension": ".py",
   "mimetype": "text/x-python",
   "name": "python",
   "nbconvert_exporter": "python",
   "pygments_lexer": "ipython3",
   "version": "3.8.5"
  }
 },
 "nbformat": 4,
 "nbformat_minor": 1
}
